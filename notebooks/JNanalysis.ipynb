{
	"cells": [
		{
			"cell_type": "markdown",
			"metadata": {},
			"source": [
				"# OpenWPM - Análisis estilo Lightbeam\n",
				"\n",
				"Este Notebook:\n",
				"1. Carga los datos de una ejecución previa de OpenWPM (archivo SQLite).\n",
				"2. Identifica las peticiones a \"terceros\" (third-party) al comparar el dominio de la página visitada vs. el dominio del recurso.\n",
				"3. Contesta a preguntas habituales tipo Lightbeam:\n",
				"   - Número total de terceros\n",
				"   - Página con más terceros\n",
				"   - Dos páginas con más terceros en común\n",
				"   - Tercero más frecuente\n"
			]
		},
		{
			"cell_type": "code",
			"execution_count": 3,
			"metadata": {},
			"outputs": [
				{
					"name": "stdout",
					"output_type": "stream",
					"text": [
						"Columnas disponibles en http_requests:\n",
						" ['id', 'incognito', 'browser_id', 'visit_id', 'extension_session_uuid', 'event_ordinal', 'window_id', 'tab_id', 'frame_id', 'url', 'top_level_url', 'parent_frame_id', 'frame_ancestors', 'method', 'referrer', 'headers', 'request_id', 'is_XHR', 'is_third_party_channel', 'is_third_party_to_top_window', 'triggering_origin', 'loading_origin', 'loading_href', 'req_call_stack', 'resource_type', 'post_body', 'post_body_raw', 'time_stamp']\n",
						"\n",
						"Ejemplo de filas:\n"
					]
				},
				{
					"data": {
						"text/html": [
							"<div>\n",
							"<style scoped>\n",
							"    .dataframe tbody tr th:only-of-type {\n",
							"        vertical-align: middle;\n",
							"    }\n",
							"\n",
							"    .dataframe tbody tr th {\n",
							"        vertical-align: top;\n",
							"    }\n",
							"\n",
							"    .dataframe thead th {\n",
							"        text-align: right;\n",
							"    }\n",
							"</style>\n",
							"<table border=\"1\" class=\"dataframe\">\n",
							"  <thead>\n",
							"    <tr style=\"text-align: right;\">\n",
							"      <th></th>\n",
							"      <th>id</th>\n",
							"      <th>incognito</th>\n",
							"      <th>browser_id</th>\n",
							"      <th>visit_id</th>\n",
							"      <th>extension_session_uuid</th>\n",
							"      <th>event_ordinal</th>\n",
							"      <th>window_id</th>\n",
							"      <th>tab_id</th>\n",
							"      <th>frame_id</th>\n",
							"      <th>url</th>\n",
							"      <th>...</th>\n",
							"      <th>is_third_party_channel</th>\n",
							"      <th>is_third_party_to_top_window</th>\n",
							"      <th>triggering_origin</th>\n",
							"      <th>loading_origin</th>\n",
							"      <th>loading_href</th>\n",
							"      <th>req_call_stack</th>\n",
							"      <th>resource_type</th>\n",
							"      <th>post_body</th>\n",
							"      <th>post_body_raw</th>\n",
							"      <th>time_stamp</th>\n",
							"    </tr>\n",
							"  </thead>\n",
							"  <tbody>\n",
							"    <tr>\n",
							"      <th>0</th>\n",
							"      <td>1</td>\n",
							"      <td>0</td>\n",
							"      <td>496321143</td>\n",
							"      <td>3162082775655329</td>\n",
							"      <td>a262be8d-1a58-4033-bb0b-7c0232a3437c</td>\n",
							"      <td>1</td>\n",
							"      <td>1.0</td>\n",
							"      <td>1</td>\n",
							"      <td>0</td>\n",
							"      <td>http://www.example.com/</td>\n",
							"      <td>...</td>\n",
							"      <td>None</td>\n",
							"      <td>None</td>\n",
							"      <td>undefined</td>\n",
							"      <td>undefined</td>\n",
							"      <td>undefined</td>\n",
							"      <td>None</td>\n",
							"      <td>main_frame</td>\n",
							"      <td>None</td>\n",
							"      <td>None</td>\n",
							"      <td>2025-02-16T18:42:20.421Z</td>\n",
							"    </tr>\n",
							"    <tr>\n",
							"      <th>1</th>\n",
							"      <td>2</td>\n",
							"      <td>0</td>\n",
							"      <td>1869619805</td>\n",
							"      <td>3177703552783071</td>\n",
							"      <td>eb93d226-e36f-44f2-b901-0002e073e1f9</td>\n",
							"      <td>1</td>\n",
							"      <td>1.0</td>\n",
							"      <td>1</td>\n",
							"      <td>0</td>\n",
							"      <td>http://www.princeton.edu/</td>\n",
							"      <td>...</td>\n",
							"      <td>None</td>\n",
							"      <td>None</td>\n",
							"      <td>undefined</td>\n",
							"      <td>undefined</td>\n",
							"      <td>undefined</td>\n",
							"      <td>None</td>\n",
							"      <td>main_frame</td>\n",
							"      <td>None</td>\n",
							"      <td>None</td>\n",
							"      <td>2025-02-16T18:42:20.436Z</td>\n",
							"    </tr>\n",
							"    <tr>\n",
							"      <th>2</th>\n",
							"      <td>3</td>\n",
							"      <td>0</td>\n",
							"      <td>1869619805</td>\n",
							"      <td>3177703552783071</td>\n",
							"      <td>eb93d226-e36f-44f2-b901-0002e073e1f9</td>\n",
							"      <td>3</td>\n",
							"      <td>1.0</td>\n",
							"      <td>1</td>\n",
							"      <td>0</td>\n",
							"      <td>https://www.princeton.edu/</td>\n",
							"      <td>...</td>\n",
							"      <td>None</td>\n",
							"      <td>None</td>\n",
							"      <td>undefined</td>\n",
							"      <td>undefined</td>\n",
							"      <td>undefined</td>\n",
							"      <td>None</td>\n",
							"      <td>main_frame</td>\n",
							"      <td>None</td>\n",
							"      <td>None</td>\n",
							"      <td>2025-02-16T18:42:20.520Z</td>\n",
							"    </tr>\n",
							"    <tr>\n",
							"      <th>3</th>\n",
							"      <td>4</td>\n",
							"      <td>0</td>\n",
							"      <td>496321143</td>\n",
							"      <td>3162082775655329</td>\n",
							"      <td>a262be8d-1a58-4033-bb0b-7c0232a3437c</td>\n",
							"      <td>5</td>\n",
							"      <td>1.0</td>\n",
							"      <td>1</td>\n",
							"      <td>0</td>\n",
							"      <td>http://www.example.com/favicon.ico</td>\n",
							"      <td>...</td>\n",
							"      <td>None</td>\n",
							"      <td>None</td>\n",
							"      <td>http://www.example.com</td>\n",
							"      <td>http://www.example.com</td>\n",
							"      <td>http://www.example.com/</td>\n",
							"      <td>None</td>\n",
							"      <td>image</td>\n",
							"      <td>None</td>\n",
							"      <td>None</td>\n",
							"      <td>2025-02-16T18:42:20.789Z</td>\n",
							"    </tr>\n",
							"    <tr>\n",
							"      <th>4</th>\n",
							"      <td>5</td>\n",
							"      <td>0</td>\n",
							"      <td>1869619805</td>\n",
							"      <td>3177703552783071</td>\n",
							"      <td>eb93d226-e36f-44f2-b901-0002e073e1f9</td>\n",
							"      <td>7</td>\n",
							"      <td>1.0</td>\n",
							"      <td>1</td>\n",
							"      <td>0</td>\n",
							"      <td>https://www.princeton.edu/sites/default/files/...</td>\n",
							"      <td>...</td>\n",
							"      <td>None</td>\n",
							"      <td>None</td>\n",
							"      <td>https://www.princeton.edu</td>\n",
							"      <td>https://www.princeton.edu</td>\n",
							"      <td>https://www.princeton.edu/</td>\n",
							"      <td>None</td>\n",
							"      <td>script</td>\n",
							"      <td>None</td>\n",
							"      <td>None</td>\n",
							"      <td>2025-02-16T18:42:20.743Z</td>\n",
							"    </tr>\n",
							"  </tbody>\n",
							"</table>\n",
							"<p>5 rows × 28 columns</p>\n",
							"</div>"
						],
						"text/plain": [
							"   id  incognito  browser_id          visit_id  \\\n",
							"0   1          0   496321143  3162082775655329   \n",
							"1   2          0  1869619805  3177703552783071   \n",
							"2   3          0  1869619805  3177703552783071   \n",
							"3   4          0   496321143  3162082775655329   \n",
							"4   5          0  1869619805  3177703552783071   \n",
							"\n",
							"                 extension_session_uuid  event_ordinal  window_id  tab_id  \\\n",
							"0  a262be8d-1a58-4033-bb0b-7c0232a3437c              1        1.0       1   \n",
							"1  eb93d226-e36f-44f2-b901-0002e073e1f9              1        1.0       1   \n",
							"2  eb93d226-e36f-44f2-b901-0002e073e1f9              3        1.0       1   \n",
							"3  a262be8d-1a58-4033-bb0b-7c0232a3437c              5        1.0       1   \n",
							"4  eb93d226-e36f-44f2-b901-0002e073e1f9              7        1.0       1   \n",
							"\n",
							"   frame_id                                                url  ...  \\\n",
							"0         0                            http://www.example.com/  ...   \n",
							"1         0                          http://www.princeton.edu/  ...   \n",
							"2         0                         https://www.princeton.edu/  ...   \n",
							"3         0                 http://www.example.com/favicon.ico  ...   \n",
							"4         0  https://www.princeton.edu/sites/default/files/...  ...   \n",
							"\n",
							"  is_third_party_channel  is_third_party_to_top_window  \\\n",
							"0                   None                          None   \n",
							"1                   None                          None   \n",
							"2                   None                          None   \n",
							"3                   None                          None   \n",
							"4                   None                          None   \n",
							"\n",
							"           triggering_origin             loading_origin  \\\n",
							"0                  undefined                  undefined   \n",
							"1                  undefined                  undefined   \n",
							"2                  undefined                  undefined   \n",
							"3     http://www.example.com     http://www.example.com   \n",
							"4  https://www.princeton.edu  https://www.princeton.edu   \n",
							"\n",
							"                 loading_href req_call_stack  resource_type  post_body  \\\n",
							"0                   undefined           None     main_frame       None   \n",
							"1                   undefined           None     main_frame       None   \n",
							"2                   undefined           None     main_frame       None   \n",
							"3     http://www.example.com/           None          image       None   \n",
							"4  https://www.princeton.edu/           None         script       None   \n",
							"\n",
							"  post_body_raw                time_stamp  \n",
							"0          None  2025-02-16T18:42:20.421Z  \n",
							"1          None  2025-02-16T18:42:20.436Z  \n",
							"2          None  2025-02-16T18:42:20.520Z  \n",
							"3          None  2025-02-16T18:42:20.789Z  \n",
							"4          None  2025-02-16T18:42:20.743Z  \n",
							"\n",
							"[5 rows x 28 columns]"
						]
					},
					"metadata": {},
					"output_type": "display_data"
				}
			],
			"source": [
				"import sqlite3\n",
				"import pandas as pd\n",
				"from urllib.parse import urlparse\n",
				"from itertools import combinations\n",
				"\n",
				"DB_PATH = \"/workspaces/OpenWPM/datadir/crawl-data.sqlite\"\n",
				"\n",
				"# 1. Conectamos con la base de datos SQLite que generó OpenWPM\n",
				"conn = sqlite3.connect(DB_PATH)\n",
				"\n",
				"# 2. Cargamos la tabla http_requests, donde se registran las peticiones\n",
				"df_requests = pd.read_sql_query(\"SELECT * FROM http_requests\", conn)\n",
				"conn.close()\n",
				"\n",
				"print(\"Columnas disponibles en http_requests:\\n\", df_requests.columns.tolist())\n",
				"print(\"\\nEjemplo de filas:\")\n",
				"display(df_requests.head(5))"
			]
		},
		{
			"cell_type": "markdown",
			"metadata": {},
			"source": [
				"### 3. Normalizar dominios\n",
				"Vamos a extraer el dominio de la página visitada (columna `top_level_url`) y el dominio del recurso (`url`) para identificar si es un tercero."
			]
		},
		{
			"cell_type": "code",
			"execution_count": 4,
			"metadata": {},
			"outputs": [
				{
					"name": "stdout",
					"output_type": "stream",
					"text": [
						"                top_level_url        page_domain  \\\n",
						"0     http://www.example.com/    www.example.com   \n",
						"1   http://www.princeton.edu/  www.princeton.edu   \n",
						"2  https://www.princeton.edu/  www.princeton.edu   \n",
						"3     http://www.example.com/    www.example.com   \n",
						"4  https://www.princeton.edu/  www.princeton.edu   \n",
						"\n",
						"                                                 url         req_domain  \n",
						"0                            http://www.example.com/    www.example.com  \n",
						"1                          http://www.princeton.edu/  www.princeton.edu  \n",
						"2                         https://www.princeton.edu/  www.princeton.edu  \n",
						"3                 http://www.example.com/favicon.ico    www.example.com  \n",
						"4  https://www.princeton.edu/sites/default/files/...  www.princeton.edu  \n"
					]
				}
			],
			"source": [
				"def get_domain_from_url(u: str) -> str:\n",
				"    if not u:\n",
				"        return \"\"\n",
				"    parsed = urlparse(u)\n",
				"    return parsed.netloc.lower()\n",
				"\n",
				"df_requests[\"page_domain\"] = df_requests[\"top_level_url\"].apply(get_domain_from_url)\n",
				"df_requests[\"req_domain\"]  = df_requests[\"url\"].apply(get_domain_from_url)\n",
				"\n",
				"print(df_requests[[\"top_level_url\", \"page_domain\", \"url\", \"req_domain\"]].head())"
			]
		},
		{
			"cell_type": "markdown",
			"metadata": {},
			"source": [
				"### 4. Identificar peticiones a terceros\n",
				"Definimos que una petición es de \"terceros\" si el dominio del recurso (`req_domain`) difiere del dominio de la página (`page_domain`)."
			]
		},
		{
			"cell_type": "code",
			"execution_count": 5,
			"metadata": {},
			"outputs": [
				{
					"name": "stdout",
					"output_type": "stream",
					"text": [
						"Total de peticiones: 872\n",
						"Total de peticiones a terceros: 380\n"
					]
				}
			],
			"source": [
				"# Creamos una columna booleana is_thirdparty\n",
				"df_requests[\"is_thirdparty\"] = df_requests.apply(\n",
				"    lambda row: row[\"req_domain\"] != row[\"page_domain\"], axis=1\n",
				")\n",
				"df_third = df_requests[df_requests[\"is_thirdparty\"]].copy()\n",
				"print(f\"Total de peticiones: {len(df_requests)}\")\n",
				"print(f\"Total de peticiones a terceros: {len(df_third)}\")"
			]
		},
		{
			"cell_type": "markdown",
			"metadata": {},
			"source": [
				"### 5. Calcular el número total de terceros\n",
				"Obtenemos los dominios de terceros únicos:"
			]
		},
		{
			"cell_type": "code",
			"execution_count": 6,
			"metadata": {},
			"outputs": [
				{
					"name": "stdout",
					"output_type": "stream",
					"text": [
						"Número total de dominios terceros únicos: 43\n"
					]
				}
			],
			"source": [
				"all_third_parties = df_third[\"req_domain\"].unique()\n",
				"num_third_parties = len(all_third_parties)\n",
				"\n",
				"print(\"Número total de dominios terceros únicos:\", num_third_parties)"
			]
		},
		{
			"cell_type": "markdown",
			"metadata": {},
			"source": [
				"### 6. Página con más terceros\n",
				"Agrupamos por la página visitada y contamos cuántos terceros *distintos* aparecen en cada una."
			]
		},
		{
			"cell_type": "code",
			"execution_count": 7,
			"metadata": {},
			"outputs": [
				{
					"name": "stdout",
					"output_type": "stream",
					"text": [
						"Página con más terceros: www.elcorteingles.es \n",
						"Número de terceros: 17\n"
					]
				}
			],
			"source": [
				"# Agrupamos en sets para no contar repetidos\n",
				"grouped_sets = df_third.groupby(\"page_domain\")[\"req_domain\"].agg(set)\n",
				"# El resultado es un Series: page_domain -> set({varios_terceros})\n",
				"\n",
				"df_counts = grouped_sets.apply(len).reset_index(name=\"count_third\")\n",
				"page_with_max = df_counts.loc[df_counts[\"count_third\"].idxmax()]\n",
				"print(\"Página con más terceros:\", page_with_max[\"page_domain\"], \n",
				"      \"\\nNúmero de terceros:\", page_with_max[\"count_third\"])"
			]
		},
		{
			"cell_type": "markdown",
			"metadata": {},
			"source": [
				"### 7. Dos páginas con más terceros en común\n",
				"Para cada par de sitios, calculamos la intersección de sus sets de dominios terceros:"
			]
		},
		{
			"cell_type": "code",
			"execution_count": 8,
			"metadata": {},
			"outputs": [
				{
					"name": "stdout",
					"output_type": "stream",
					"text": [
						"Las dos páginas con más terceros en común son: ('www.elcorteingles.es', 'www.uoc.edu')\n",
						"Número de terceros compartidos: 5\n"
					]
				}
			],
			"source": [
				"page_to_thirdset = grouped_sets.to_dict()  # dict: { 'page_domain' -> set({terceros...}) }\n",
				"\n",
				"all_pages = list(page_to_thirdset.keys())\n",
				"max_shared = -1\n",
				"best_pair = (None, None)\n",
				"\n",
				"for p1, p2 in combinations(all_pages, 2):\n",
				"    shared = page_to_thirdset[p1].intersection(page_to_thirdset[p2])\n",
				"    scount = len(shared)\n",
				"    if scount > max_shared:\n",
				"        max_shared = scount\n",
				"        best_pair = (p1, p2)\n",
				"\n",
				"print(\"Las dos páginas con más terceros en común son:\", best_pair)\n",
				"print(\"Número de terceros compartidos:\", max_shared)"
			]
		},
		{
			"cell_type": "markdown",
			"metadata": {},
			"source": [
				"### 8. Tercero más frecuente\n",
				"Buscamos en cuántos **sitios** aparece cada dominio tercero."
			]
		},
		{
			"cell_type": "code",
			"execution_count": 9,
			"metadata": {},
			"outputs": [
				{
					"name": "stdout",
					"output_type": "stream",
					"text": [
						"Tercero más frecuente: www.googletagmanager.com\n",
						"Aparece en 5 páginas distintas de 7 totales.\n"
					]
				}
			],
			"source": [
				"# Transformamos page -> set(terceros) a una lista [(page, dom), ...]\n",
				"pairs = []\n",
				"for page, sdoms in page_to_thirdset.items():\n",
				"    for d in sdoms:\n",
				"        pairs.append((page, d))\n",
				"\n",
				"df_pairs = pd.DataFrame(pairs, columns=[\"page_domain\", \"third_domain\"])\n",
				"# Contamos en cuántas páginas aparece cada third_domain\n",
				"counts = df_pairs[\"third_domain\"].value_counts()\n",
				"\n",
				"most_common_third = counts.index[0]\n",
				"freq = counts.iloc[0]\n",
				"print(\"Tercero más frecuente:\", most_common_third)\n",
				"print(\"Aparece en\", freq, \"páginas distintas de\", len(all_pages), \"totales.\")"
			]
		},
		{
			"cell_type": "markdown",
			"metadata": {},
			"source": [
				"## Conclusiones\n",
				"Con este Notebook hemos:\n",
				"- Cargado los datos generados por OpenWPM.\n",
				"- Identificado peticiones de terceros comparando dominios.\n",
				"- Obtenido:\n",
				"  1. Número total de terceros\n",
				"  2. Página con más terceros\n",
				"  3. Dos páginas con más terceros en común\n",
				"  4. Tercero que aparece en más páginas\n",
				"\n",
				"Puedes ajustar la lógica de \"tercero\" (e.g., ignorar subdominios), añadir más análisis, o usar cualquier otra tabla (`http_responses`, `cookies`, etc.) según necesites."
			]
		}
	],
	"metadata": {
		"kernelspec": {
			"display_name": "openwpm",
			"language": "python",
			"name": "python3"
		},
		"language_info": {
			"codemirror_mode": {
				"name": "ipython",
				"version": 3
			},
			"file_extension": ".py",
			"mimetype": "text/x-python",
			"name": "python",
			"nbconvert_exporter": "python",
			"pygments_lexer": "ipython3",
			"version": "3.12.8"
		}
	},
	"nbformat": 4,
	"nbformat_minor": 5
}
