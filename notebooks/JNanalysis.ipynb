{
	"cells": [
		{
			"cell_type": "markdown",
			"metadata": {},
			"source": [
				"# OpenWPM - Análisis estilo Lightbeam\n",
				"\n",
				"Este Notebook:\n",
				"1. Carga los datos de una ejecución previa de OpenWPM (archivo SQLite).\n",
				"2. Identifica las peticiones a \"terceros\" (third-party) al comparar el dominio de la página visitada vs. el dominio del recurso.\n",
				"3. Contesta a preguntas habituales tipo Lightbeam:\n",
				"   - Número total de terceros\n",
				"   - Página con más terceros\n",
				"   - Dos páginas con más terceros en común\n",
				"   - Tercero más frecuente\n"
			]
		},
		{
			"cell_type": "code",
			"metadata": {},
			"source": [
				"import sqlite3\n",
				"import pandas as pd\n",
				"from urllib.parse import urlparse\n",
				"from itertools import combinations\n",
				"\n",
				"DB_PATH = \"/workspaces/OpenWPM/datadir/crawl-data.sqlite\"\n",
				"\n",
				"# 1. Conectamos con la base de datos SQLite que generó OpenWPM\n",
				"conn = sqlite3.connect(DB_PATH)\n",
				"\n",
				"# 2. Cargamos la tabla http_requests, donde se registran las peticiones\n",
				"df_requests = pd.read_sql_query(\"SELECT * FROM http_requests\", conn)\n",
				"conn.close()\n",
				"\n",
				"print(\"Columnas disponibles en http_requests:\\n\", df_requests.columns.tolist())\n",
				"print(\"\\nEjemplo de filas:\")\n",
				"display(df_requests.head(5))"
			],
			"execution_count": null,
			"outputs": []
		},
		{
			"cell_type": "markdown",
			"metadata": {},
			"source": [
				"### 3. Normalizar dominios\n",
				"Vamos a extraer el dominio de la página visitada (columna `top_level_url`) y el dominio del recurso (`url`) para identificar si es un tercero."
			]
		},
		{
			"cell_type": "code",
			"metadata": {},
			"source": [
				"def get_domain_from_url(u: str) -> str:\n",
				"    if not u:\n",
				"        return \"\"\n",
				"    parsed = urlparse(u)\n",
				"    return parsed.netloc.lower()\n",
				"\n",
				"df_requests[\"page_domain\"] = df_requests[\"top_level_url\"].apply(get_domain_from_url)\n",
				"df_requests[\"req_domain\"]  = df_requests[\"url\"].apply(get_domain_from_url)\n",
				"\n",
				"print(df_requests[[\"top_level_url\", \"page_domain\", \"url\", \"req_domain\"]].head())"
			],
			"execution_count": null,
			"outputs": []
		},
		{
			"cell_type": "markdown",
			"metadata": {},
			"source": [
				"### 4. Identificar peticiones a terceros\n",
				"Definimos que una petición es de \"terceros\" si el dominio del recurso (`req_domain`) difiere del dominio de la página (`page_domain`)."
			]
		},
		{
			"cell_type": "code",
			"metadata": {},
			"source": [
				"# Creamos una columna booleana is_thirdparty\n",
				"df_requests[\"is_thirdparty\"] = df_requests.apply(\n",
				"    lambda row: row[\"req_domain\"] != row[\"page_domain\"], axis=1\n",
				")\n",
				"df_third = df_requests[df_requests[\"is_thirdparty\"]].copy()\n",
				"print(f\"Total de peticiones: {len(df_requests)}\")\n",
				"print(f\"Total de peticiones a terceros: {len(df_third)}\")"
			],
			"execution_count": null,
			"outputs": []
		},
		{
			"cell_type": "markdown",
			"metadata": {},
			"source": [
				"### 5. Calcular el número total de terceros\n",
				"Obtenemos los dominios de terceros únicos:"
			]
		},
		{
			"cell_type": "code",
			"metadata": {},
			"source": [
				"all_third_parties = df_third[\"req_domain\"].unique()\n",
				"num_third_parties = len(all_third_parties)\n",
				"\n",
				"print(\"Número total de dominios terceros únicos:\", num_third_parties)"
			],
			"execution_count": null,
			"outputs": []
		},
		{
			"cell_type": "markdown",
			"metadata": {},
			"source": [
				"### 6. Página con más terceros\n",
				"Agrupamos por la página visitada y contamos cuántos terceros *distintos* aparecen en cada una."
			]
		},
		{
			"cell_type": "code",
			"metadata": {},
			"source": [
				"# Agrupamos en sets para no contar repetidos\n",
				"grouped_sets = df_third.groupby(\"page_domain\")[\"req_domain\"].agg(set)\n",
				"# El resultado es un Series: page_domain -> set({varios_terceros})\n",
				"\n",
				"df_counts = grouped_sets.apply(len).reset_index(name=\"count_third\")\n",
				"page_with_max = df_counts.loc[df_counts[\"count_third\"].idxmax()]\n",
				"print(\"Página con más terceros:\", page_with_max[\"page_domain\"], \n",
				"      \"\\nNúmero de terceros:\", page_with_max[\"count_third\"])"
			],
			"execution_count": null,
			"outputs": []
		},
		{
			"cell_type": "markdown",
			"metadata": {},
			"source": [
				"### 7. Dos páginas con más terceros en común\n",
				"Para cada par de sitios, calculamos la intersección de sus sets de dominios terceros:"
			]
		},
		{
			"cell_type": "code",
			"metadata": {},
			"source": [
				"page_to_thirdset = grouped_sets.to_dict()  # dict: { 'page_domain' -> set({terceros...}) }\n",
				"\n",
				"all_pages = list(page_to_thirdset.keys())\n",
				"max_shared = -1\n",
				"best_pair = (None, None)\n",
				"\n",
				"for p1, p2 in combinations(all_pages, 2):\n",
				"    shared = page_to_thirdset[p1].intersection(page_to_thirdset[p2])\n",
				"    scount = len(shared)\n",
				"    if scount > max_shared:\n",
				"        max_shared = scount\n",
				"        best_pair = (p1, p2)\n",
				"\n",
				"print(\"Las dos páginas con más terceros en común son:\", best_pair)\n",
				"print(\"Número de terceros compartidos:\", max_shared)"
			],
			"execution_count": null,
			"outputs": []
		},
		{
			"cell_type": "markdown",
			"metadata": {},
			"source": [
				"### 8. Tercero más frecuente\n",
				"Buscamos en cuántos **sitios** aparece cada dominio tercero."
			]
		},
		{
			"cell_type": "code",
			"metadata": {},
			"source": [
				"# Transformamos page -> set(terceros) a una lista [(page, dom), ...]\n",
				"pairs = []\n",
				"for page, sdoms in page_to_thirdset.items():\n",
				"    for d in sdoms:\n",
				"        pairs.append((page, d))\n",
				"\n",
				"df_pairs = pd.DataFrame(pairs, columns=[\"page_domain\", \"third_domain\"])\n",
				"# Contamos en cuántas páginas aparece cada third_domain\n",
				"counts = df_pairs[\"third_domain\"].value_counts()\n",
				"\n",
				"most_common_third = counts.index[0]\n",
				"freq = counts.iloc[0]\n",
				"print(\"Tercero más frecuente:\", most_common_third)\n",
				"print(\"Aparece en\", freq, \"páginas distintas de\", len(all_pages), \"totales.\")"
			],
			"execution_count": null,
			"outputs": []
		},
    {
      "cell_type": "markdown",
      "metadata": {},
      "source": [
        "## 9. Exportar resultados\n",
        "En esta celda generaremos un archivo JSON con la información clave (número total, página con más terceros, par de páginas con mayor intersección y la lista de esos terceros, etc.)."
      ]
    },
    {
      "cell_type": "code",
      "metadata": {},
      "source": [
        "import json\n",
        "\n",
        "# A) Número total de terceros\n",
        "num_total = num_third_parties\n",
        "\n",
        "# B) Página con más terceros\n",
        "page_max_name = page_with_max[\"page_domain\"]\n",
        "page_max_count = page_with_max[\"count_third\"]\n",
        "\n",
        "# C) Dos páginas con más terceros en común\n",
        "p1, p2 = best_pair\n",
        "shared_thirds_list = list(page_to_thirdset[p1].intersection(page_to_thirdset[p2]))\n",
        "\n",
        "# D) Tercero más frecuente\n",
        "most_freq_third = most_common_third\n",
        "most_freq_third_count = freq\n",
        "\n",
        "analysis_dict = {\n",
        "    \"num_third_parties\": int(num_total.item()),\n",
        "    \"page_with_max_thirds\": page_max_name,\n",
        "    \"count_on_that_page\": int(page_max_count.item()),\n",
        "    \"pages_with_most_shared_thirds\": {\n",
        "        \"page1\": p1,\n",
        "        \"page2\": p2,\n",
        "        \"shared_count\": int(max_shared.item()),\n",
        "        \"shared_third_parties\": list(shared_thirds_list)\n",
        "    },\n",
        "    \"most_frequent_third\": most_freq_third,\n",
        "    \"freq_third\": int(most_freq_third_count.item())\n",
        "}\n",
        "\n",
        "with open(\"analysis_results.json\", \"w\", encoding=\"utf-8\") as f:\n",
        "    json.dump(analysis_dict, f, indent=2, ensure_ascii=False)\n",
        "\n",
        "print(\"analysis_results.json creado con la información principal.\")"
      ],
      "execution_count": null,
      "outputs": []
    },
    {
      "cell_type": "markdown",
      "metadata": {},
      "source": [
        "## 10. Exportar la lista de terceros por página\n",
        "Generamos un CSV que muestre, para cada página, qué terceros se encontraron."
      ]
    },
    {
      "cell_type": "code",
      "metadata": {},
      "source": [
        "# Partimos de df_third, que contiene solo peticiones a terceros\n",
        "# Agrupamos en sets y convertimos a lista\n",
        "df_thirds_by_page = (\n",
        "    df_third.groupby(\"page_domain\")[\"req_domain\"]\n",
        "    .agg(lambda s: list(set(s)))\n",
        "    .reset_index()\n",
        "    .rename(columns={\"req_domain\": \"third_parties_list\"})\n",
        ")\n",
        "\n",
        "df_thirds_by_page.to_csv(\"thirds_by_page.csv\", index=False)\n",
        "print(\"Archivo thirds_by_page.csv creado correctamente.\")"
      ],
      "execution_count": null,
      "outputs": []
    },
	{
		"cell_type": "markdown",
		"metadata": {},
		"source": [
			"## Conclusiones\n",
			"Con este Notebook hemos:\n",
			"- Cargado los datos generados por OpenWPM.\n",
			"- Identificado peticiones de terceros comparando dominios.\n",
			"- Obtenido:\n",
			"  1. Número total de terceros\n",
			"  2. Página con más terceros\n",
			"  3. Dos páginas con más terceros en común\n",
			"  4. Tercero que aparece en más páginas\n",
			"\n",
			"Puedes ajustar la lógica de \"tercero\" (e.g., ignorar subdominios), añadir más análisis, o usar cualquier otra tabla (`http_responses`, `cookies`, etc.) según necesites."
			]
	}
	],
	"metadata": {
		"kernelspec": {
			"display_name": "Python 3",
			"language": "python",
			"name": "python3"
		},
		"language_info": {
			"name": "python"
		}
	},
	"nbformat": 4,
	"nbformat_minor": 5
}