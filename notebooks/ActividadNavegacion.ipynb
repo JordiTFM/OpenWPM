{
 "cells": [
  {
   "cell_type": "markdown",
   "metadata": {},
   "source": [
    "# IB-ActividadLightbeam\n",
    "\n",
    "En esta libreta vamos a:\n",
    "1. Cargar y analizar el archivo `ThunderbeamData.json` (o “LightbeamData.json”).\n",
    "2. Responder a las preguntas:\n",
    "   - Número total de terceros conectados.\n",
    "   - Página visitada con más terceros.\n",
    "   - Dos páginas con más terceros en común.\n",
    "   - Tercero que aparece más a menudo.\n"
   ]
  },
  {
   "cell_type": "markdown",
   "metadata": {},
   "source": [
    "## 1. Preparación del entorno\n",
    "\n",
    "Importamos las librerías necesarias para el análisis."
   ]
  },
  {
   "cell_type": "code",
   "metadata": {
    "executionInfo": {}
   },
   "source": [
    "import json\n",
    "import pandas as pd\n",
    "from collections import defaultdict, Counter"
   ],
   "execution_count": null,
   "outputs": []
  },
  {
   "cell_type": "markdown",
   "metadata": {},
   "source": [
    "## 2. Carga de datos\n",
    "\n",
    "Asumiendo que el archivo JSON tiene una estructura aproximada a:\n",
    "```json\n",
    "{\n",
    "  \"sites\": [\n",
    "    {\n",
    "      \"page\": \"https://www.ejemplo1.com\",\n",
    "      \"third_parties\": [\"ads.ejemplo.com\", \"analytics.ejemplo2.net\", ...]\n",
    "    },\n",
    "    {\n",
    "      \"page\": \"https://www.ejemplo2.com\",\n",
    "      \"third_parties\": [...]\n",
    "    },\n",
    "    ...\n",
    "  ]\n",
    "}\n",
    "```\n",
    "\n",
    "Si tu archivo tiene otra forma, adapta el código en consecuencia."
   ]
  },
  {
   "cell_type": "code",
   "metadata": {},
   "source": [
    "# Lee el archivo JSON (ajusta la ruta a tu caso)\n",
    "with open('ThunderbeamData.json', 'r', encoding='utf-8') as f:\n",
    "    data = json.load(f)\n",
    "\n",
    "# Supongamos que la clave principal es 'sites'\n",
    "sites_data = data.get(\"sites\", [])\n",
    "\n",
    "print(f\"Se han cargado {len(sites_data)} entradas de sitios.\")"
   ],
   "execution_count": null,
   "outputs": []
  },
  {
   "cell_type": "markdown",
   "metadata": {},
   "source": [
    "## 3. Análisis de los datos\n",
    "\n",
    "### 3.1 Número total de terceros distintos\n",
    "Podemos crear un conjunto global de todos los terceros y contar su cardinalidad."
   ]
  },
  {
   "cell_type": "code",
   "metadata": {},
   "source": [
    "all_third_parties = set()\n",
    "\n",
    "for site in sites_data:\n",
    "    # Ajustar el campo en función de la clave real del JSON\n",
    "    tps = site.get('third_parties', [])\n",
    "    for tp in tps:\n",
    "        all_third_parties.add(tp)\n",
    "\n",
    "num_third_parties = len(all_third_parties)\n",
    "print(\"Número total de terceros únicos conectados:\", num_third_parties)"
   ],
   "execution_count": null,
   "outputs": []
  },
  {
   "cell_type": "markdown",
   "metadata": {},
   "source": [
    "### 3.2 Página con más terceros\n",
    "Para cada sitio, contamos cuántos terceros se han detectado, y nos quedamos con el máximo."
   ]
  },
  {
   "cell_type": "code",
   "metadata": {},
   "source": [
    "page_to_count = {}\n",
    "\n",
    "for site in sites_data:\n",
    "    page = site.get('page', 'Unknown')\n",
    "    tps = site.get('third_parties', [])\n",
    "    page_to_count[page] = len(tps)\n",
    "\n",
    "# Hallamos la página con mayor número de terceros\n",
    "max_page = None\n",
    "max_count = -1\n",
    "\n",
    "for p, c in page_to_count.items():\n",
    "    if c > max_count:\n",
    "        max_count = c\n",
    "        max_page = p\n",
    "\n",
    "print(\"Página con más terceros:\", max_page)\n",
    "print(\"Número de terceros:\", max_count)"
   ],
   "execution_count": null,
   "outputs": []
  },
  {
   "cell_type": "markdown",
   "metadata": {},
   "source": [
    "### 3.3 Las dos páginas con más terceros en común\n",
    "Calculamos, para cada par de sitios, el número de terceros compartidos."
   ]
  },
  {
   "cell_type": "code",
   "metadata": {},
   "source": [
    "# Primero, creamos un dict con los terceros de cada sitio en forma de set\n",
    "site_to_thirdset = {}\n",
    "for site in sites_data:\n",
    "    page = site.get('page', 'Unknown')\n",
    "    tps = site.get('third_parties', [])\n",
    "    site_to_thirdset[page] = set(tps)\n",
    "\n",
    "# Luego comparamos cada par de páginas\n",
    "import itertools\n",
    "\n",
    "max_shared = -1\n",
    "pages_pair = (None, None)\n",
    "all_pages = list(site_to_thirdset.keys())\n",
    "\n",
    "for p1, p2 in itertools.combinations(all_pages, 2):\n",
    "    shared = site_to_thirdset[p1].intersection(site_to_thirdset[p2])\n",
    "    shared_count = len(shared)\n",
    "    if shared_count > max_shared:\n",
    "        max_shared = shared_count\n",
    "        pages_pair = (p1, p2)\n",
    "\n",
    "print(\"Páginas con más terceros en común:\", pages_pair)\n",
    "print(\"Número de terceros en común:\", max_shared)"
   ],
   "execution_count": null,
   "outputs": []
  },
  {
   "cell_type": "markdown",
   "metadata": {},
   "source": [
    "### 3.4 Tercero que aparece más a menudo\n",
    "Contamos en cuántos sitios aparece cada dominio de tercero."
   ]
  },
  {
   "cell_type": "code",
   "metadata": {},
   "source": [
    "third_counts = Counter()\n",
    "\n",
    "for site in sites_data:\n",
    "    tps = set(site.get('third_parties', []))  # conjunto para no contar duplicados en la misma página\n",
    "    for tp in tps:\n",
    "        third_counts[tp] += 1\n",
    "\n",
    "most_common_third = third_counts.most_common(1)\n",
    "if most_common_third:\n",
    "    print(\"Tercero más frecuente:\", most_common_third[0][0])\n",
    "    print(\"Aparece en\", most_common_third[0][1], \"páginas.\")\n",
    "else:\n",
    "    print(\"No se encontró ningún tercero.\")"
   ],
   "execution_count": null,
   "outputs": []
  },
  {
   "cell_type": "markdown",
   "metadata": {},
   "source": [
    "## 4. Conclusiones\n",
    "En este punto, ya podemos extraer la información necesaria para contestar a:\n",
    "- **Número total de terceros conectados**: `num_third_parties`\n",
    "- **Página con más terceros y cuántos**: `max_page`, `max_count`\n",
    "- **Dos páginas con más terceros en común y cuántos**: `pages_pair`, `max_shared`\n",
    "- **Tercero más frecuente**: `most_common_third`\n",
    "\n",
    "A partir de estos datos podemos completar la actividad solicitada."
   ]
  }
 ],
 "metadata": {
  "kernelspec": {
   "display_name": "Python 3",
   "language": "python",
   "name": "python3"
  }
 },
 "nbformat": 4,
 "nbformat_minor": 2
}
